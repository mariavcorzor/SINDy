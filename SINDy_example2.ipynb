{
 "cells": [
  {
   "cell_type": "code",
   "execution_count": 2,
   "id": "34e55253",
   "metadata": {
    "ExecuteTime": {
     "end_time": "2023-06-27T20:21:06.526507Z",
     "start_time": "2023-06-27T20:20:59.784341Z"
    }
   },
   "outputs": [
    {
     "name": "stdout",
     "output_type": "stream",
     "text": [
      "Defaulting to user installation because normal site-packages is not writeable\n",
      "Requirement already satisfied: pysindy in ./.local/lib/python3.8/site-packages (1.7.5)\n",
      "Requirement already satisfied: numpy in /apps/share64/debian10/anaconda/anaconda-7/lib/python3.8/site-packages (from pysindy) (1.20.2)\n",
      "Requirement already satisfied: scs!=2.1.4,>=2.1 in ./.local/lib/python3.8/site-packages (from pysindy) (3.2.3)\n",
      "Requirement already satisfied: scikit-learn>=0.23 in ./.local/lib/python3.8/site-packages (from pysindy) (1.2.2)\n",
      "Requirement already satisfied: matplotlib in /apps/share64/debian10/anaconda/anaconda-7/lib/python3.8/site-packages (from pysindy) (3.4.2)\n",
      "Requirement already satisfied: scipy in /apps/share64/debian10/anaconda/anaconda-7/lib/python3.8/site-packages (from pysindy) (1.6.2)\n",
      "Requirement already satisfied: derivative in ./.local/lib/python3.8/site-packages (from pysindy) (0.6.0)\n",
      "Requirement already satisfied: cmake in ./.local/lib/python3.8/site-packages (from pysindy) (3.26.4)\n",
      "Requirement already satisfied: joblib>=1.1.1 in ./.local/lib/python3.8/site-packages (from scikit-learn>=0.23->pysindy) (1.2.0)\n",
      "Requirement already satisfied: threadpoolctl>=2.0.0 in /apps/share64/debian10/anaconda/anaconda-7/lib/python3.8/site-packages (from scikit-learn>=0.23->pysindy) (2.1.0)\n",
      "Requirement already satisfied: python-dateutil>=2.7 in /apps/share64/debian10/anaconda/anaconda-7/lib/python3.8/site-packages (from matplotlib->pysindy) (2.8.1)\n",
      "Requirement already satisfied: kiwisolver>=1.0.1 in /apps/share64/debian10/anaconda/anaconda-7/lib/python3.8/site-packages (from matplotlib->pysindy) (1.3.1)\n",
      "Requirement already satisfied: pillow>=6.2.0 in /apps/share64/debian10/anaconda/anaconda-7/lib/python3.8/site-packages (from matplotlib->pysindy) (8.2.0)\n",
      "Requirement already satisfied: cycler>=0.10 in /apps/share64/debian10/anaconda/anaconda-7/lib/python3.8/site-packages (from matplotlib->pysindy) (0.10.0)\n",
      "Requirement already satisfied: pyparsing>=2.2.1 in /apps/share64/debian10/anaconda/anaconda-7/lib/python3.8/site-packages (from matplotlib->pysindy) (2.4.7)\n",
      "Requirement already satisfied: six in /apps/share64/debian10/anaconda/anaconda-7/lib/python3.8/site-packages (from cycler>=0.10->matplotlib->pysindy) (1.16.0)\n",
      "Note: you may need to restart the kernel to use updated packages.\n"
     ]
    }
   ],
   "source": [
    "pip install pysindy"
   ]
  },
  {
   "cell_type": "code",
   "execution_count": 6,
   "id": "18ea0e40",
   "metadata": {
    "ExecuteTime": {
     "end_time": "2023-06-28T01:09:42.613354Z",
     "start_time": "2023-06-28T01:09:42.609023Z"
    }
   },
   "outputs": [],
   "source": [
    "import numpy as np\n",
    "\n",
    "import pysindy as ps\n",
    "\n",
    "import warnings\n",
    "\n",
    "import matplotlib.pyplot as plt\n",
    "\n",
    "plt.ion()\n",
    "\n",
    "# ignore user warnings\n",
    "warnings.filterwarnings(\"ignore\", category=UserWarning)\n",
    "\n",
    "integrator_keywords = {}\n",
    "integrator_keywords[\"rtol\"] = 1e-12\n",
    "integrator_keywords[\"method\"] = \"LSODA\"\n",
    "integrator_keywords[\"atol\"] = 1e-12\n",
    "\n",
    "\n",
    "from utils import (\n",
    "    compare_methods,\n",
    "    print_equations,\n",
    "    compare_coefficient_plots,\n",
    "    plot_sho,\n",
    "    plot_lorenz,\n",
    ")"
   ]
  },
  {
   "cell_type": "code",
   "execution_count": 7,
   "id": "0b7d6607",
   "metadata": {
    "ExecuteTime": {
     "end_time": "2023-06-28T01:09:44.830989Z",
     "start_time": "2023-06-28T01:09:44.826784Z"
    }
   },
   "outputs": [],
   "source": [
    "if __name__ != \"testing\":\n",
    "    from example_data import gen_data1\n",
    "    from example_data import gen_data2\n",
    "else:\n",
    "    from mock_data import gen_data1\n",
    "    from mock_data import gen_data2"
   ]
  },
  {
   "cell_type": "code",
   "execution_count": 8,
   "id": "cf8efe4c",
   "metadata": {
    "ExecuteTime": {
     "end_time": "2023-06-28T01:09:46.868714Z",
     "start_time": "2023-06-28T01:09:46.856804Z"
    }
   },
   "outputs": [
    {
     "name": "stdout",
     "output_type": "stream",
     "text": [
      "(array([0.        , 0.01010101, 0.02020202, 0.03030303, 0.04040404,\n",
      "       0.05050505, 0.06060606, 0.07070707, 0.08080808, 0.09090909,\n",
      "       0.1010101 , 0.11111111, 0.12121212, 0.13131313, 0.14141414,\n",
      "       0.15151515, 0.16161616, 0.17171717, 0.18181818, 0.19191919,\n",
      "       0.2020202 , 0.21212121, 0.22222222, 0.23232323, 0.24242424,\n",
      "       0.25252525, 0.26262626, 0.27272727, 0.28282828, 0.29292929,\n",
      "       0.3030303 , 0.31313131, 0.32323232, 0.33333333, 0.34343434,\n",
      "       0.35353535, 0.36363636, 0.37373737, 0.38383838, 0.39393939,\n",
      "       0.4040404 , 0.41414141, 0.42424242, 0.43434343, 0.44444444,\n",
      "       0.45454545, 0.46464646, 0.47474747, 0.48484848, 0.49494949,\n",
      "       0.50505051, 0.51515152, 0.52525253, 0.53535354, 0.54545455,\n",
      "       0.55555556, 0.56565657, 0.57575758, 0.58585859, 0.5959596 ,\n",
      "       0.60606061, 0.61616162, 0.62626263, 0.63636364, 0.64646465,\n",
      "       0.65656566, 0.66666667, 0.67676768, 0.68686869, 0.6969697 ,\n",
      "       0.70707071, 0.71717172, 0.72727273, 0.73737374, 0.74747475,\n",
      "       0.75757576, 0.76767677, 0.77777778, 0.78787879, 0.7979798 ,\n",
      "       0.80808081, 0.81818182, 0.82828283, 0.83838384, 0.84848485,\n",
      "       0.85858586, 0.86868687, 0.87878788, 0.88888889, 0.8989899 ,\n",
      "       0.90909091, 0.91919192, 0.92929293, 0.93939394, 0.94949495,\n",
      "       0.95959596, 0.96969697, 0.97979798, 0.98989899, 1.        ]), array([3.        , 2.94000202, 2.88120396, 2.82358182, 2.76711209,\n",
      "       2.71177171, 2.6575381 , 2.60438913, 2.5523031 , 2.50125875,\n",
      "       2.45123526, 2.40221221, 2.35416958, 2.30708778, 2.26094757,\n",
      "       2.21573014, 2.17141703, 2.12799016, 2.08543179, 2.04372455,\n",
      "       2.00285144, 1.96279576, 1.92354117, 1.88507164, 1.84737147,\n",
      "       1.81042529, 1.774218  , 1.73873484, 1.70396131, 1.66988323,\n",
      "       1.63648669, 1.60375806, 1.57168398, 1.54025136, 1.50944737,\n",
      "       1.47925944, 1.44967524, 1.42068271, 1.39227002, 1.36442555,\n",
      "       1.33713796, 1.3103961 , 1.28418906, 1.25850615, 1.23333687,\n",
      "       1.20867096, 1.18449836, 1.16080919, 1.13759379, 1.11484268,\n",
      "       1.09254657, 1.07069638, 1.04928317, 1.02829822, 1.00773294,\n",
      "       0.98757896, 0.96782805, 0.94847214, 0.92950334, 0.91091389,\n",
      "       0.89269623, 0.87484291, 0.85734664, 0.84020028, 0.82339684,\n",
      "       0.80692946, 0.79079141, 0.77497612, 0.75947712, 0.74428809,\n",
      "       0.72940283, 0.71481526, 0.70051944, 0.68650952, 0.67277979,\n",
      "       0.65932465, 0.6461386 , 0.63321626, 0.62055236, 0.60814174,\n",
      "       0.59597931, 0.58406012, 0.57237932, 0.56093211, 0.54971385,\n",
      "       0.53871994, 0.52794591, 0.51738734, 0.50703995, 0.49689949,\n",
      "       0.48696183, 0.47722292, 0.46767879, 0.45832553, 0.44915932,\n",
      "       0.44017644, 0.43137321, 0.42274603, 0.4142914 , 0.40600585]), array([0.5       , 0.5050761 , 0.51020373, 0.51538342, 0.52061569,\n",
      "       0.52590109, 0.53124014, 0.53663339, 0.5420814 , 0.54758472,\n",
      "       0.55314391, 0.55875953, 0.56443217, 0.5701624 , 0.5759508 ,\n",
      "       0.58179797, 0.58770449, 0.59367099, 0.59969805, 0.6057863 ,\n",
      "       0.61193637, 0.61814887, 0.62442443, 0.63076371, 0.63716735,\n",
      "       0.643636  , 0.65017032, 0.65677098, 0.66343865, 0.67017401,\n",
      "       0.67697775, 0.68385056, 0.69079314, 0.69780621, 0.70489048,\n",
      "       0.71204667, 0.7192755 , 0.72657773, 0.73395409, 0.74140534,\n",
      "       0.74893223, 0.75653554, 0.76421604, 0.77197451, 0.77981175,\n",
      "       0.78772855, 0.79572573, 0.80380409, 0.81196447, 0.82020769,\n",
      "       0.8285346 , 0.83694605, 0.84544289, 0.854026  , 0.86269624,\n",
      "       0.8714545 , 0.88030168, 0.88923867, 0.8982664 , 0.90738578,\n",
      "       0.91659774, 0.92590322, 0.93530317, 0.94479855, 0.95439034,\n",
      "       0.9640795 , 0.97386702, 0.98375391, 0.99374117, 1.00382983,\n",
      "       1.01402091, 1.02431545, 1.0347145 , 1.04521913, 1.0558304 ,\n",
      "       1.0665494 , 1.07737722, 1.08831497, 1.09936375, 1.11052471,\n",
      "       1.12179898, 1.1331877 , 1.14469205, 1.15631319, 1.16805231,\n",
      "       1.17991061, 1.19188929, 1.20398959, 1.21621273, 1.22855996,\n",
      "       1.24103254, 1.25363175, 1.26635887, 1.27921519, 1.29220204,\n",
      "       1.30532073, 1.3185726 , 1.33195901, 1.34548132, 1.35914091]))\n",
      "[[3.         0.5       ]\n",
      " [2.94000202 0.5050761 ]\n",
      " [2.88120396 0.51020373]\n",
      " [2.82358182 0.51538342]\n",
      " [2.76711209 0.52061569]\n",
      " [2.71177171 0.52590109]\n",
      " [2.6575381  0.53124014]\n",
      " [2.60438913 0.53663339]\n",
      " [2.5523031  0.5420814 ]\n",
      " [2.50125875 0.54758472]\n",
      " [2.45123526 0.55314391]\n",
      " [2.40221221 0.55875953]\n",
      " [2.35416958 0.56443217]\n",
      " [2.30708778 0.5701624 ]\n",
      " [2.26094757 0.5759508 ]\n",
      " [2.21573014 0.58179797]\n",
      " [2.17141703 0.58770449]\n",
      " [2.12799016 0.59367099]\n",
      " [2.08543179 0.59969805]\n",
      " [2.04372455 0.6057863 ]\n",
      " [2.00285144 0.61193637]\n",
      " [1.96279576 0.61814887]\n",
      " [1.92354117 0.62442443]\n",
      " [1.88507164 0.63076371]\n",
      " [1.84737147 0.63716735]\n",
      " [1.81042529 0.643636  ]\n",
      " [1.774218   0.65017032]\n",
      " [1.73873484 0.65677098]\n",
      " [1.70396131 0.66343865]\n",
      " [1.66988323 0.67017401]\n",
      " [1.63648669 0.67697775]\n",
      " [1.60375806 0.68385056]\n",
      " [1.57168398 0.69079314]\n",
      " [1.54025136 0.69780621]\n",
      " [1.50944737 0.70489048]\n",
      " [1.47925944 0.71204667]\n",
      " [1.44967524 0.7192755 ]\n",
      " [1.42068271 0.72657773]\n",
      " [1.39227002 0.73395409]\n",
      " [1.36442555 0.74140534]\n",
      " [1.33713796 0.74893223]\n",
      " [1.3103961  0.75653554]\n",
      " [1.28418906 0.76421604]\n",
      " [1.25850615 0.77197451]\n",
      " [1.23333687 0.77981175]\n",
      " [1.20867096 0.78772855]\n",
      " [1.18449836 0.79572573]\n",
      " [1.16080919 0.80380409]\n",
      " [1.13759379 0.81196447]\n",
      " [1.11484268 0.82020769]\n",
      " [1.09254657 0.8285346 ]\n",
      " [1.07069638 0.83694605]\n",
      " [1.04928317 0.84544289]\n",
      " [1.02829822 0.854026  ]\n",
      " [1.00773294 0.86269624]\n",
      " [0.98757896 0.8714545 ]\n",
      " [0.96782805 0.88030168]\n",
      " [0.94847214 0.88923867]\n",
      " [0.92950334 0.8982664 ]\n",
      " [0.91091389 0.90738578]\n",
      " [0.89269623 0.91659774]\n",
      " [0.87484291 0.92590322]\n",
      " [0.85734664 0.93530317]\n",
      " [0.84020028 0.94479855]\n",
      " [0.82339684 0.95439034]\n",
      " [0.80692946 0.9640795 ]\n",
      " [0.79079141 0.97386702]\n",
      " [0.77497612 0.98375391]\n",
      " [0.75947712 0.99374117]\n",
      " [0.74428809 1.00382983]\n",
      " [0.72940283 1.01402091]\n",
      " [0.71481526 1.02431545]\n",
      " [0.70051944 1.0347145 ]\n",
      " [0.68650952 1.04521913]\n",
      " [0.67277979 1.0558304 ]\n",
      " [0.65932465 1.0665494 ]\n",
      " [0.6461386  1.07737722]\n",
      " [0.63321626 1.08831497]\n",
      " [0.62055236 1.09936375]\n",
      " [0.60814174 1.11052471]\n",
      " [0.59597931 1.12179898]\n",
      " [0.58406012 1.1331877 ]\n",
      " [0.57237932 1.14469205]\n",
      " [0.56093211 1.15631319]\n",
      " [0.54971385 1.16805231]\n",
      " [0.53871994 1.17991061]\n",
      " [0.52794591 1.19188929]\n",
      " [0.51738734 1.20398959]\n",
      " [0.50703995 1.21621273]\n",
      " [0.49689949 1.22855996]\n",
      " [0.48696183 1.24103254]\n",
      " [0.47722292 1.25363175]\n",
      " [0.46767879 1.26635887]\n",
      " [0.45832553 1.27921519]\n",
      " [0.44915932 1.29220204]\n",
      " [0.44017644 1.30532073]\n",
      " [0.43137321 1.3185726 ]\n",
      " [0.42274603 1.33195901]\n",
      " [0.4142914  1.34548132]\n",
      " [0.40600585 1.35914091]]\n"
     ]
    }
   ],
   "source": [
    "t, x, y = gen_data1()\n",
    "print(gen_data1())\n",
    "X = np.stack((x, y), axis=-1)  # First column is x, second is y\n",
    "print(X)"
   ]
  },
  {
   "cell_type": "code",
   "execution_count": 19,
   "id": "9a5d667b",
   "metadata": {
    "ExecuteTime": {
     "end_time": "2023-06-28T01:20:18.593659Z",
     "start_time": "2023-06-28T01:20:18.590444Z"
    }
   },
   "outputs": [],
   "source": [
    "differentiation_method = ps.FiniteDifference(order=2)\n",
    "\n",
    "feature_library = ps.PolynomialLibrary(degree=3) #why is the degree different than the polynomial order? In Example they're the same\n",
    "\n",
    "optimizer = ps.STLSQ(threshold=0.2)"
   ]
  },
  {
   "cell_type": "code",
   "execution_count": 25,
   "id": "11123d8d",
   "metadata": {
    "ExecuteTime": {
     "end_time": "2023-06-28T01:31:05.258265Z",
     "start_time": "2023-06-28T01:28:13.552174Z"
    }
   },
   "outputs": [
    {
     "name": "stdout",
     "output_type": "stream",
     "text": [
      "(x)' = -2.000 x\n",
      "(y)' = 1.000 y\n",
      "\n",
      "\n",
      "(x)' = -1.999 x\n",
      "(y)' = 1.000 y\n",
      "\n",
      "\n"
     ]
    },
    {
     "data": {
      "image/png": "[encoded data removed]",
      "text/plain": [
       "<Figure size 432x288 with 1 Axes>"
      ]
     },
     "metadata": {
      "needs_background": "light"
     },
     "output_type": "display_data"
    },
    {
     "name": "stdout",
     "output_type": "stream",
     "text": [
      "(x)' = -2.000 x\n",
      "(y)' = 1.000 y\n",
      "\n",
      "\n"
     ]
    },
    {
     "data": {
      "image/png": "[encoded data removed]",
      "text/plain": [
       "<Figure size 432x288 with 1 Axes>"
      ]
     },
     "metadata": {
      "needs_background": "light"
     },
     "output_type": "display_data"
    },
    {
     "name": "stdout",
     "output_type": "stream",
     "text": [
      "(x)' = -0.610 x + 0.382 x^2 + -0.539 x y + -1.498 x^2 y\n",
      "(y)' = 1.000 y\n",
      "\n",
      "\n",
      "(x)' = -4.212 x + 3.371 y + -0.209 x^2 + -0.162 x y + -2.965 y^2 + 1.779 x^2 y + 0.531 y^3\n",
      "(y)' = 0.999 y\n",
      "\n",
      "\n"
     ]
    },
    {
     "data": {
      "image/png": "[encoded data removed]",
      "text/plain": [
       "<Figure size 432x288 with 1 Axes>"
      ]
     },
     "metadata": {
      "needs_background": "light"
     },
     "output_type": "display_data"
    },
    {
     "name": "stdout",
     "output_type": "stream",
     "text": [
      "(x)' = -200165.992 1 + -255697.281 x + 189202.338 y + -20422.162 x^2 + 417185.126 x y + -63696.646 y^2 + 440.536 x^3 + 121367.020 x^2 y + -150124.494 x y^2 + 9168.307 y^3\n",
      "(y)' = 0.752 1\n",
      "\n",
      "\n"
     ]
    },
    {
     "data": {
      "image/png": "[encoded data removed]",
      "text/plain": [
       "<Figure size 432x288 with 1 Axes>"
      ]
     },
     "metadata": {
      "needs_background": "light"
     },
     "output_type": "display_data"
    },
    {
     "name": "stdout",
     "output_type": "stream",
     "text": [
      "(x)' = -14110570.892 1 + -17432833.770 x + 13659304.088 y + -1375069.534 x^2 + 28849063.394 x y + -4728241.139 y^2 + 29883.595 x^3 + 8201371.754 x^2 y + -10582928.172 x y^2 + 702125.340 y^3\n",
      "(y)' = 4663684.285 1 + 5759139.508 x + -4515549.190 y + 454070.619 x^2 + -9532758.741 x y + 1563430.398 y^2 + -9863.895 x^3 + -2708818.710 x^2 y + 3497763.215 x y^2 + -232214.406 y^3\n",
      "\n",
      "\n"
     ]
    },
    {
     "name": "stderr",
     "output_type": "stream",
     "text": [
      "/home/nanohub/new_username/.local/lib/python3.8/site-packages/sklearn/utils/extmath.py:189: RuntimeWarning: overflow encountered in matmul\n",
      "  ret = a @ b\n"
     ]
    },
    {
     "ename": "ValueError",
     "evalue": "Input contains NaN.",
     "output_type": "error",
     "traceback": [
      "\u001b[0;31m---------------------------------------------------------------------------\u001b[0m",
      "\u001b[0;31mValueError\u001b[0m                                Traceback (most recent call last)",
      "\u001b[0;32m<ipython-input-25-da2440f45b48>\u001b[0m in \u001b[0;36m<module>\u001b[0;34m\u001b[0m\n\u001b[1;32m    115\u001b[0m \u001b[0mprint\u001b[0m\u001b[0;34m(\u001b[0m\u001b[0;34m'\\n'\u001b[0m\u001b[0;34m)\u001b[0m\u001b[0;34m\u001b[0m\u001b[0;34m\u001b[0m\u001b[0m\n\u001b[1;32m    116\u001b[0m \u001b[0;34m\u001b[0m\u001b[0m\n\u001b[0;32m--> 117\u001b[0;31m \u001b[0msim\u001b[0m \u001b[0;34m=\u001b[0m \u001b[0mmodel\u001b[0m\u001b[0;34m.\u001b[0m\u001b[0msimulate\u001b[0m\u001b[0;34m(\u001b[0m\u001b[0;34m[\u001b[0m\u001b[0mx0\u001b[0m\u001b[0;34m,\u001b[0m \u001b[0my0\u001b[0m\u001b[0;34m]\u001b[0m\u001b[0;34m,\u001b[0m \u001b[0mt\u001b[0m\u001b[0;34m=\u001b[0m\u001b[0mt_test\u001b[0m\u001b[0;34m)\u001b[0m\u001b[0;34m\u001b[0m\u001b[0;34m\u001b[0m\u001b[0m\n\u001b[0m\u001b[1;32m    118\u001b[0m \u001b[0;34m\u001b[0m\u001b[0m\n\u001b[1;32m    119\u001b[0m \u001b[0mplt\u001b[0m\u001b[0;34m.\u001b[0m\u001b[0mfigure\u001b[0m\u001b[0;34m(\u001b[0m\u001b[0;34m)\u001b[0m\u001b[0;34m\u001b[0m\u001b[0;34m\u001b[0m\u001b[0m\n",
      "\u001b[0;32m~/.local/lib/python3.8/site-packages/pysindy/pysindy.py\u001b[0m in \u001b[0;36msimulate\u001b[0;34m(self, x0, t, u, integrator, stop_condition, interpolator, integrator_kws, interpolator_kws)\u001b[0m\n\u001b[1;32m    894\u001b[0m             \u001b[0;32mif\u001b[0m \u001b[0mintegrator\u001b[0m \u001b[0;34m==\u001b[0m \u001b[0;34m\"solve_ivp\"\u001b[0m\u001b[0;34m:\u001b[0m\u001b[0;34m\u001b[0m\u001b[0;34m\u001b[0m\u001b[0m\n\u001b[1;32m    895\u001b[0m                 return (\n\u001b[0;32m--> 896\u001b[0;31m                     \u001b[0;34m(\u001b[0m\u001b[0msolve_ivp\u001b[0m\u001b[0;34m(\u001b[0m\u001b[0mrhs\u001b[0m\u001b[0;34m,\u001b[0m \u001b[0;34m(\u001b[0m\u001b[0mt\u001b[0m\u001b[0;34m[\u001b[0m\u001b[0;36m0\u001b[0m\u001b[0;34m]\u001b[0m\u001b[0;34m,\u001b[0m \u001b[0mt\u001b[0m\u001b[0;34m[\u001b[0m\u001b[0;34m-\u001b[0m\u001b[0;36m1\u001b[0m\u001b[0;34m]\u001b[0m\u001b[0;34m)\u001b[0m\u001b[0;34m,\u001b[0m \u001b[0mx0\u001b[0m\u001b[0;34m,\u001b[0m \u001b[0mt_eval\u001b[0m\u001b[0;34m=\u001b[0m\u001b[0mt\u001b[0m\u001b[0;34m,\u001b[0m \u001b[0;34m**\u001b[0m\u001b[0mintegrator_kws\u001b[0m\u001b[0;34m)\u001b[0m\u001b[0;34m)\u001b[0m\u001b[0;34m.\u001b[0m\u001b[0my\u001b[0m\u001b[0;34m\u001b[0m\u001b[0;34m\u001b[0m\u001b[0m\n\u001b[0m\u001b[1;32m    897\u001b[0m                 ).T\n\u001b[1;32m    898\u001b[0m             \u001b[0;32melif\u001b[0m \u001b[0mintegrator\u001b[0m \u001b[0;34m==\u001b[0m \u001b[0;34m\"odeint\"\u001b[0m\u001b[0;34m:\u001b[0m\u001b[0;34m\u001b[0m\u001b[0;34m\u001b[0m\u001b[0m\n",
      "\u001b[0;32m/apps/share64/debian10/anaconda/anaconda-7/lib/python3.8/site-packages/scipy/integrate/_ivp/ivp.py\u001b[0m in \u001b[0;36msolve_ivp\u001b[0;34m(fun, t_span, y0, method, t_eval, dense_output, events, vectorized, args, **options)\u001b[0m\n\u001b[1;32m    574\u001b[0m     \u001b[0mstatus\u001b[0m \u001b[0;34m=\u001b[0m \u001b[0;32mNone\u001b[0m\u001b[0;34m\u001b[0m\u001b[0;34m\u001b[0m\u001b[0m\n\u001b[1;32m    575\u001b[0m     \u001b[0;32mwhile\u001b[0m \u001b[0mstatus\u001b[0m \u001b[0;32mis\u001b[0m \u001b[0;32mNone\u001b[0m\u001b[0;34m:\u001b[0m\u001b[0;34m\u001b[0m\u001b[0;34m\u001b[0m\u001b[0m\n\u001b[0;32m--> 576\u001b[0;31m         \u001b[0mmessage\u001b[0m \u001b[0;34m=\u001b[0m \u001b[0msolver\u001b[0m\u001b[0;34m.\u001b[0m\u001b[0mstep\u001b[0m\u001b[0;34m(\u001b[0m\u001b[0;34m)\u001b[0m\u001b[0;34m\u001b[0m\u001b[0;34m\u001b[0m\u001b[0m\n\u001b[0m\u001b[1;32m    577\u001b[0m \u001b[0;34m\u001b[0m\u001b[0m\n\u001b[1;32m    578\u001b[0m         \u001b[0;32mif\u001b[0m \u001b[0msolver\u001b[0m\u001b[0;34m.\u001b[0m\u001b[0mstatus\u001b[0m \u001b[0;34m==\u001b[0m \u001b[0;34m'finished'\u001b[0m\u001b[0;34m:\u001b[0m\u001b[0;34m\u001b[0m\u001b[0;34m\u001b[0m\u001b[0m\n",
      "\u001b[0;32m/apps/share64/debian10/anaconda/anaconda-7/lib/python3.8/site-packages/scipy/integrate/_ivp/base.py\u001b[0m in \u001b[0;36mstep\u001b[0;34m(self)\u001b[0m\n\u001b[1;32m    179\u001b[0m         \u001b[0;32melse\u001b[0m\u001b[0;34m:\u001b[0m\u001b[0;34m\u001b[0m\u001b[0;34m\u001b[0m\u001b[0m\n\u001b[1;32m    180\u001b[0m             \u001b[0mt\u001b[0m \u001b[0;34m=\u001b[0m \u001b[0mself\u001b[0m\u001b[0;34m.\u001b[0m\u001b[0mt\u001b[0m\u001b[0;34m\u001b[0m\u001b[0;34m\u001b[0m\u001b[0m\n\u001b[0;32m--> 181\u001b[0;31m             \u001b[0msuccess\u001b[0m\u001b[0;34m,\u001b[0m \u001b[0mmessage\u001b[0m \u001b[0;34m=\u001b[0m \u001b[0mself\u001b[0m\u001b[0;34m.\u001b[0m\u001b[0m_step_impl\u001b[0m\u001b[0;34m(\u001b[0m\u001b[0;34m)\u001b[0m\u001b[0;34m\u001b[0m\u001b[0;34m\u001b[0m\u001b[0m\n\u001b[0m\u001b[1;32m    182\u001b[0m \u001b[0;34m\u001b[0m\u001b[0m\n\u001b[1;32m    183\u001b[0m             \u001b[0;32mif\u001b[0m \u001b[0;32mnot\u001b[0m \u001b[0msuccess\u001b[0m\u001b[0;34m:\u001b[0m\u001b[0;34m\u001b[0m\u001b[0;34m\u001b[0m\u001b[0m\n",
      "\u001b[0;32m/apps/share64/debian10/anaconda/anaconda-7/lib/python3.8/site-packages/scipy/integrate/_ivp/lsoda.py\u001b[0m in \u001b[0;36m_step_impl\u001b[0;34m(self)\u001b[0m\n\u001b[1;32m    146\u001b[0m         \u001b[0mitask\u001b[0m \u001b[0;34m=\u001b[0m \u001b[0mintegrator\u001b[0m\u001b[0;34m.\u001b[0m\u001b[0mcall_args\u001b[0m\u001b[0;34m[\u001b[0m\u001b[0;36m2\u001b[0m\u001b[0;34m]\u001b[0m\u001b[0;34m\u001b[0m\u001b[0;34m\u001b[0m\u001b[0m\n\u001b[1;32m    147\u001b[0m         \u001b[0mintegrator\u001b[0m\u001b[0;34m.\u001b[0m\u001b[0mcall_args\u001b[0m\u001b[0;34m[\u001b[0m\u001b[0;36m2\u001b[0m\u001b[0;34m]\u001b[0m \u001b[0;34m=\u001b[0m \u001b[0;36m5\u001b[0m\u001b[0;34m\u001b[0m\u001b[0;34m\u001b[0m\u001b[0m\n\u001b[0;32m--> 148\u001b[0;31m         solver._y, solver.t = integrator.run(\n\u001b[0m\u001b[1;32m    149\u001b[0m             \u001b[0msolver\u001b[0m\u001b[0;34m.\u001b[0m\u001b[0mf\u001b[0m\u001b[0;34m,\u001b[0m \u001b[0msolver\u001b[0m\u001b[0;34m.\u001b[0m\u001b[0mjac\u001b[0m \u001b[0;32mor\u001b[0m \u001b[0;34m(\u001b[0m\u001b[0;32mlambda\u001b[0m\u001b[0;34m:\u001b[0m \u001b[0;32mNone\u001b[0m\u001b[0;34m)\u001b[0m\u001b[0;34m,\u001b[0m \u001b[0msolver\u001b[0m\u001b[0;34m.\u001b[0m\u001b[0m_y\u001b[0m\u001b[0;34m,\u001b[0m \u001b[0msolver\u001b[0m\u001b[0;34m.\u001b[0m\u001b[0mt\u001b[0m\u001b[0;34m,\u001b[0m\u001b[0;34m\u001b[0m\u001b[0;34m\u001b[0m\u001b[0m\n\u001b[1;32m    150\u001b[0m             self.t_bound, solver.f_params, solver.jac_params)\n",
      "\u001b[0;32m/apps/share64/debian10/anaconda/anaconda-7/lib/python3.8/site-packages/scipy/integrate/_ode.py\u001b[0m in \u001b[0;36mrun\u001b[0;34m(self, f, jac, y0, t0, t1, f_params, jac_params)\u001b[0m\n\u001b[1;32m   1346\u001b[0m         \u001b[0margs\u001b[0m \u001b[0;34m=\u001b[0m \u001b[0;34m[\u001b[0m\u001b[0mf\u001b[0m\u001b[0;34m,\u001b[0m \u001b[0my0\u001b[0m\u001b[0;34m,\u001b[0m \u001b[0mt0\u001b[0m\u001b[0;34m,\u001b[0m \u001b[0mt1\u001b[0m\u001b[0;34m]\u001b[0m \u001b[0;34m+\u001b[0m \u001b[0mself\u001b[0m\u001b[0;34m.\u001b[0m\u001b[0mcall_args\u001b[0m\u001b[0;34m[\u001b[0m\u001b[0;34m:\u001b[0m\u001b[0;34m-\u001b[0m\u001b[0;36m1\u001b[0m\u001b[0;34m]\u001b[0m \u001b[0;34m+\u001b[0m\u001b[0;31m \u001b[0m\u001b[0;31m\\\u001b[0m\u001b[0;34m\u001b[0m\u001b[0;34m\u001b[0m\u001b[0m\n\u001b[1;32m   1347\u001b[0m                \u001b[0;34m[\u001b[0m\u001b[0mjac\u001b[0m\u001b[0;34m,\u001b[0m \u001b[0mself\u001b[0m\u001b[0;34m.\u001b[0m\u001b[0mcall_args\u001b[0m\u001b[0;34m[\u001b[0m\u001b[0;34m-\u001b[0m\u001b[0;36m1\u001b[0m\u001b[0;34m]\u001b[0m\u001b[0;34m,\u001b[0m \u001b[0mf_params\u001b[0m\u001b[0;34m,\u001b[0m \u001b[0;36m0\u001b[0m\u001b[0;34m,\u001b[0m \u001b[0mjac_params\u001b[0m\u001b[0;34m]\u001b[0m\u001b[0;34m\u001b[0m\u001b[0;34m\u001b[0m\u001b[0m\n\u001b[0;32m-> 1348\u001b[0;31m         \u001b[0my1\u001b[0m\u001b[0;34m,\u001b[0m \u001b[0mt\u001b[0m\u001b[0;34m,\u001b[0m \u001b[0mistate\u001b[0m \u001b[0;34m=\u001b[0m \u001b[0mself\u001b[0m\u001b[0;34m.\u001b[0m\u001b[0mrunner\u001b[0m\u001b[0;34m(\u001b[0m\u001b[0;34m*\u001b[0m\u001b[0margs\u001b[0m\u001b[0;34m)\u001b[0m\u001b[0;34m\u001b[0m\u001b[0;34m\u001b[0m\u001b[0m\n\u001b[0m\u001b[1;32m   1349\u001b[0m         \u001b[0mself\u001b[0m\u001b[0;34m.\u001b[0m\u001b[0mistate\u001b[0m \u001b[0;34m=\u001b[0m \u001b[0mistate\u001b[0m\u001b[0;34m\u001b[0m\u001b[0;34m\u001b[0m\u001b[0m\n\u001b[1;32m   1350\u001b[0m         \u001b[0;32mif\u001b[0m \u001b[0mistate\u001b[0m \u001b[0;34m<\u001b[0m \u001b[0;36m0\u001b[0m\u001b[0;34m:\u001b[0m\u001b[0;34m\u001b[0m\u001b[0;34m\u001b[0m\u001b[0m\n",
      "\u001b[0;32m/apps/share64/debian10/anaconda/anaconda-7/lib/python3.8/site-packages/scipy/integrate/_ivp/base.py\u001b[0m in \u001b[0;36mfun\u001b[0;34m(t, y)\u001b[0m\n\u001b[1;32m    136\u001b[0m         \u001b[0;32mdef\u001b[0m \u001b[0mfun\u001b[0m\u001b[0;34m(\u001b[0m\u001b[0mt\u001b[0m\u001b[0;34m,\u001b[0m \u001b[0my\u001b[0m\u001b[0;34m)\u001b[0m\u001b[0;34m:\u001b[0m\u001b[0;34m\u001b[0m\u001b[0;34m\u001b[0m\u001b[0m\n\u001b[1;32m    137\u001b[0m             \u001b[0mself\u001b[0m\u001b[0;34m.\u001b[0m\u001b[0mnfev\u001b[0m \u001b[0;34m+=\u001b[0m \u001b[0;36m1\u001b[0m\u001b[0;34m\u001b[0m\u001b[0;34m\u001b[0m\u001b[0m\n\u001b[0;32m--> 138\u001b[0;31m             \u001b[0;32mreturn\u001b[0m \u001b[0mself\u001b[0m\u001b[0;34m.\u001b[0m\u001b[0mfun_single\u001b[0m\u001b[0;34m(\u001b[0m\u001b[0mt\u001b[0m\u001b[0;34m,\u001b[0m \u001b[0my\u001b[0m\u001b[0;34m)\u001b[0m\u001b[0;34m\u001b[0m\u001b[0;34m\u001b[0m\u001b[0m\n\u001b[0m\u001b[1;32m    139\u001b[0m \u001b[0;34m\u001b[0m\u001b[0m\n\u001b[1;32m    140\u001b[0m         \u001b[0mself\u001b[0m\u001b[0;34m.\u001b[0m\u001b[0mfun\u001b[0m \u001b[0;34m=\u001b[0m \u001b[0mfun\u001b[0m\u001b[0;34m\u001b[0m\u001b[0;34m\u001b[0m\u001b[0m\n",
      "\u001b[0;32m/apps/share64/debian10/anaconda/anaconda-7/lib/python3.8/site-packages/scipy/integrate/_ivp/base.py\u001b[0m in \u001b[0;36mfun_wrapped\u001b[0;34m(t, y)\u001b[0m\n\u001b[1;32m     18\u001b[0m \u001b[0;34m\u001b[0m\u001b[0m\n\u001b[1;32m     19\u001b[0m     \u001b[0;32mdef\u001b[0m \u001b[0mfun_wrapped\u001b[0m\u001b[0;34m(\u001b[0m\u001b[0mt\u001b[0m\u001b[0;34m,\u001b[0m \u001b[0my\u001b[0m\u001b[0;34m)\u001b[0m\u001b[0;34m:\u001b[0m\u001b[0;34m\u001b[0m\u001b[0;34m\u001b[0m\u001b[0m\n\u001b[0;32m---> 20\u001b[0;31m         \u001b[0;32mreturn\u001b[0m \u001b[0mnp\u001b[0m\u001b[0;34m.\u001b[0m\u001b[0masarray\u001b[0m\u001b[0;34m(\u001b[0m\u001b[0mfun\u001b[0m\u001b[0;34m(\u001b[0m\u001b[0mt\u001b[0m\u001b[0;34m,\u001b[0m \u001b[0my\u001b[0m\u001b[0;34m)\u001b[0m\u001b[0;34m,\u001b[0m \u001b[0mdtype\u001b[0m\u001b[0;34m=\u001b[0m\u001b[0mdtype\u001b[0m\u001b[0;34m)\u001b[0m\u001b[0;34m\u001b[0m\u001b[0;34m\u001b[0m\u001b[0m\n\u001b[0m\u001b[1;32m     21\u001b[0m \u001b[0;34m\u001b[0m\u001b[0m\n\u001b[1;32m     22\u001b[0m     \u001b[0;32mreturn\u001b[0m \u001b[0mfun_wrapped\u001b[0m\u001b[0;34m,\u001b[0m \u001b[0my0\u001b[0m\u001b[0;34m\u001b[0m\u001b[0;34m\u001b[0m\u001b[0m\n",
      "\u001b[0;32m~/.local/lib/python3.8/site-packages/pysindy/pysindy.py\u001b[0m in \u001b[0;36mrhs\u001b[0;34m(t, x)\u001b[0m\n\u001b[1;32m    858\u001b[0m \u001b[0;34m\u001b[0m\u001b[0m\n\u001b[1;32m    859\u001b[0m                 \u001b[0;32mdef\u001b[0m \u001b[0mrhs\u001b[0m\u001b[0;34m(\u001b[0m\u001b[0mt\u001b[0m\u001b[0;34m,\u001b[0m \u001b[0mx\u001b[0m\u001b[0;34m)\u001b[0m\u001b[0;34m:\u001b[0m\u001b[0;34m\u001b[0m\u001b[0;34m\u001b[0m\u001b[0m\n\u001b[0;32m--> 860\u001b[0;31m                     \u001b[0;32mreturn\u001b[0m \u001b[0mself\u001b[0m\u001b[0;34m.\u001b[0m\u001b[0mpredict\u001b[0m\u001b[0;34m(\u001b[0m\u001b[0mx\u001b[0m\u001b[0;34m[\u001b[0m\u001b[0mnp\u001b[0m\u001b[0;34m.\u001b[0m\u001b[0mnewaxis\u001b[0m\u001b[0;34m,\u001b[0m \u001b[0;34m:\u001b[0m\u001b[0;34m]\u001b[0m\u001b[0;34m)\u001b[0m\u001b[0;34m[\u001b[0m\u001b[0;36m0\u001b[0m\u001b[0;34m]\u001b[0m\u001b[0;34m\u001b[0m\u001b[0;34m\u001b[0m\u001b[0m\n\u001b[0m\u001b[1;32m    861\u001b[0m \u001b[0;34m\u001b[0m\u001b[0m\n\u001b[1;32m    862\u001b[0m             \u001b[0;32melse\u001b[0m\u001b[0;34m:\u001b[0m\u001b[0;34m\u001b[0m\u001b[0;34m\u001b[0m\u001b[0m\n",
      "\u001b[0;32m~/.local/lib/python3.8/site-packages/pysindy/pysindy.py\u001b[0m in \u001b[0;36mpredict\u001b[0;34m(self, x, u, multiple_trajectories)\u001b[0m\n\u001b[1;32m    459\u001b[0m         \u001b[0;32mif\u001b[0m \u001b[0;32mnot\u001b[0m \u001b[0mmultiple_trajectories\u001b[0m\u001b[0;34m:\u001b[0m\u001b[0;34m\u001b[0m\u001b[0;34m\u001b[0m\u001b[0m\n\u001b[1;32m    460\u001b[0m             \u001b[0mx\u001b[0m\u001b[0;34m,\u001b[0m \u001b[0m_\u001b[0m\u001b[0;34m,\u001b[0m \u001b[0m_\u001b[0m\u001b[0;34m,\u001b[0m \u001b[0mu\u001b[0m \u001b[0;34m=\u001b[0m \u001b[0m_adapt_to_multiple_trajectories\u001b[0m\u001b[0;34m(\u001b[0m\u001b[0mx\u001b[0m\u001b[0;34m,\u001b[0m \u001b[0;32mNone\u001b[0m\u001b[0;34m,\u001b[0m \u001b[0;32mNone\u001b[0m\u001b[0;34m,\u001b[0m \u001b[0mu\u001b[0m\u001b[0;34m)\u001b[0m\u001b[0;34m\u001b[0m\u001b[0;34m\u001b[0m\u001b[0m\n\u001b[0;32m--> 461\u001b[0;31m         \u001b[0mx\u001b[0m\u001b[0;34m,\u001b[0m \u001b[0m_\u001b[0m\u001b[0;34m,\u001b[0m \u001b[0mu\u001b[0m \u001b[0;34m=\u001b[0m \u001b[0m_comprehend_and_validate_inputs\u001b[0m\u001b[0;34m(\u001b[0m\u001b[0mx\u001b[0m\u001b[0;34m,\u001b[0m \u001b[0;36m1\u001b[0m\u001b[0;34m,\u001b[0m \u001b[0;32mNone\u001b[0m\u001b[0;34m,\u001b[0m \u001b[0mu\u001b[0m\u001b[0;34m,\u001b[0m \u001b[0mself\u001b[0m\u001b[0;34m.\u001b[0m\u001b[0mfeature_library\u001b[0m\u001b[0;34m)\u001b[0m\u001b[0;34m\u001b[0m\u001b[0;34m\u001b[0m\u001b[0m\n\u001b[0m\u001b[1;32m    462\u001b[0m \u001b[0;34m\u001b[0m\u001b[0m\n\u001b[1;32m    463\u001b[0m         \u001b[0mcheck_is_fitted\u001b[0m\u001b[0;34m(\u001b[0m\u001b[0mself\u001b[0m\u001b[0;34m,\u001b[0m \u001b[0;34m\"model\"\u001b[0m\u001b[0;34m)\u001b[0m\u001b[0;34m\u001b[0m\u001b[0;34m\u001b[0m\u001b[0m\n",
      "\u001b[0;32m~/.local/lib/python3.8/site-packages/pysindy/pysindy.py\u001b[0m in \u001b[0;36m_comprehend_and_validate_inputs\u001b[0;34m(x, t, x_dot, u, feature_library)\u001b[0m\n\u001b[1;32m    954\u001b[0m         \u001b[0;32mreturn\u001b[0m \u001b[0mvalidate_no_reshape\u001b[0m\u001b[0;34m(\u001b[0m\u001b[0marr\u001b[0m\u001b[0;34m,\u001b[0m \u001b[0mt\u001b[0m\u001b[0;34m)\u001b[0m\u001b[0;34m\u001b[0m\u001b[0;34m\u001b[0m\u001b[0m\n\u001b[1;32m    955\u001b[0m \u001b[0;34m\u001b[0m\u001b[0m\n\u001b[0;32m--> 956\u001b[0;31m     \u001b[0mx\u001b[0m \u001b[0;34m=\u001b[0m \u001b[0;34m[\u001b[0m\u001b[0mcomprehend_and_validate\u001b[0m\u001b[0;34m(\u001b[0m\u001b[0mxi\u001b[0m\u001b[0;34m,\u001b[0m \u001b[0mti\u001b[0m\u001b[0;34m)\u001b[0m \u001b[0;32mfor\u001b[0m \u001b[0mxi\u001b[0m\u001b[0;34m,\u001b[0m \u001b[0mti\u001b[0m \u001b[0;32min\u001b[0m \u001b[0m_zip_like_sequence\u001b[0m\u001b[0;34m(\u001b[0m\u001b[0mx\u001b[0m\u001b[0;34m,\u001b[0m \u001b[0mt\u001b[0m\u001b[0;34m)\u001b[0m\u001b[0;34m]\u001b[0m\u001b[0;34m\u001b[0m\u001b[0;34m\u001b[0m\u001b[0m\n\u001b[0m\u001b[1;32m    957\u001b[0m     \u001b[0;32mif\u001b[0m \u001b[0mx_dot\u001b[0m \u001b[0;32mis\u001b[0m \u001b[0;32mnot\u001b[0m \u001b[0;32mNone\u001b[0m\u001b[0;34m:\u001b[0m\u001b[0;34m\u001b[0m\u001b[0;34m\u001b[0m\u001b[0m\n\u001b[1;32m    958\u001b[0m         x_dot = [\n",
      "\u001b[0;32m~/.local/lib/python3.8/site-packages/pysindy/pysindy.py\u001b[0m in \u001b[0;36m<listcomp>\u001b[0;34m(.0)\u001b[0m\n\u001b[1;32m    954\u001b[0m         \u001b[0;32mreturn\u001b[0m \u001b[0mvalidate_no_reshape\u001b[0m\u001b[0;34m(\u001b[0m\u001b[0marr\u001b[0m\u001b[0;34m,\u001b[0m \u001b[0mt\u001b[0m\u001b[0;34m)\u001b[0m\u001b[0;34m\u001b[0m\u001b[0;34m\u001b[0m\u001b[0m\n\u001b[1;32m    955\u001b[0m \u001b[0;34m\u001b[0m\u001b[0m\n\u001b[0;32m--> 956\u001b[0;31m     \u001b[0mx\u001b[0m \u001b[0;34m=\u001b[0m \u001b[0;34m[\u001b[0m\u001b[0mcomprehend_and_validate\u001b[0m\u001b[0;34m(\u001b[0m\u001b[0mxi\u001b[0m\u001b[0;34m,\u001b[0m \u001b[0mti\u001b[0m\u001b[0;34m)\u001b[0m \u001b[0;32mfor\u001b[0m \u001b[0mxi\u001b[0m\u001b[0;34m,\u001b[0m \u001b[0mti\u001b[0m \u001b[0;32min\u001b[0m \u001b[0m_zip_like_sequence\u001b[0m\u001b[0;34m(\u001b[0m\u001b[0mx\u001b[0m\u001b[0;34m,\u001b[0m \u001b[0mt\u001b[0m\u001b[0;34m)\u001b[0m\u001b[0;34m]\u001b[0m\u001b[0;34m\u001b[0m\u001b[0;34m\u001b[0m\u001b[0m\n\u001b[0m\u001b[1;32m    957\u001b[0m     \u001b[0;32mif\u001b[0m \u001b[0mx_dot\u001b[0m \u001b[0;32mis\u001b[0m \u001b[0;32mnot\u001b[0m \u001b[0;32mNone\u001b[0m\u001b[0;34m:\u001b[0m\u001b[0;34m\u001b[0m\u001b[0;34m\u001b[0m\u001b[0m\n\u001b[1;32m    958\u001b[0m         x_dot = [\n",
      "\u001b[0;32m~/.local/lib/python3.8/site-packages/pysindy/pysindy.py\u001b[0m in \u001b[0;36mcomprehend_and_validate\u001b[0;34m(arr, t)\u001b[0m\n\u001b[1;32m    952\u001b[0m         \u001b[0marr\u001b[0m \u001b[0;34m=\u001b[0m \u001b[0mAxesArray\u001b[0m\u001b[0;34m(\u001b[0m\u001b[0marr\u001b[0m\u001b[0;34m,\u001b[0m \u001b[0mcomprehend_axes\u001b[0m\u001b[0;34m(\u001b[0m\u001b[0marr\u001b[0m\u001b[0;34m)\u001b[0m\u001b[0;34m)\u001b[0m\u001b[0;34m\u001b[0m\u001b[0;34m\u001b[0m\u001b[0m\n\u001b[1;32m    953\u001b[0m         \u001b[0marr\u001b[0m \u001b[0;34m=\u001b[0m \u001b[0mfeature_library\u001b[0m\u001b[0;34m.\u001b[0m\u001b[0mcorrect_shape\u001b[0m\u001b[0;34m(\u001b[0m\u001b[0marr\u001b[0m\u001b[0;34m)\u001b[0m\u001b[0;34m\u001b[0m\u001b[0;34m\u001b[0m\u001b[0m\n\u001b[0;32m--> 954\u001b[0;31m         \u001b[0;32mreturn\u001b[0m \u001b[0mvalidate_no_reshape\u001b[0m\u001b[0;34m(\u001b[0m\u001b[0marr\u001b[0m\u001b[0;34m,\u001b[0m \u001b[0mt\u001b[0m\u001b[0;34m)\u001b[0m\u001b[0;34m\u001b[0m\u001b[0;34m\u001b[0m\u001b[0m\n\u001b[0m\u001b[1;32m    955\u001b[0m \u001b[0;34m\u001b[0m\u001b[0m\n\u001b[1;32m    956\u001b[0m     \u001b[0mx\u001b[0m \u001b[0;34m=\u001b[0m \u001b[0;34m[\u001b[0m\u001b[0mcomprehend_and_validate\u001b[0m\u001b[0;34m(\u001b[0m\u001b[0mxi\u001b[0m\u001b[0;34m,\u001b[0m \u001b[0mti\u001b[0m\u001b[0;34m)\u001b[0m \u001b[0;32mfor\u001b[0m \u001b[0mxi\u001b[0m\u001b[0;34m,\u001b[0m \u001b[0mti\u001b[0m \u001b[0;32min\u001b[0m \u001b[0m_zip_like_sequence\u001b[0m\u001b[0;34m(\u001b[0m\u001b[0mx\u001b[0m\u001b[0;34m,\u001b[0m \u001b[0mt\u001b[0m\u001b[0;34m)\u001b[0m\u001b[0;34m]\u001b[0m\u001b[0;34m\u001b[0m\u001b[0;34m\u001b[0m\u001b[0m\n",
      "\u001b[0;32m~/.local/lib/python3.8/site-packages/pysindy/utils/base.py\u001b[0m in \u001b[0;36mvalidate_no_reshape\u001b[0;34m(x, t)\u001b[0m\n\u001b[1;32m     70\u001b[0m     \u001b[0;32mif\u001b[0m \u001b[0;32mnot\u001b[0m \u001b[0misinstance\u001b[0m\u001b[0;34m(\u001b[0m\u001b[0mx\u001b[0m\u001b[0;34m,\u001b[0m \u001b[0mnp\u001b[0m\u001b[0;34m.\u001b[0m\u001b[0mndarray\u001b[0m\u001b[0;34m)\u001b[0m\u001b[0;34m:\u001b[0m\u001b[0;34m\u001b[0m\u001b[0;34m\u001b[0m\u001b[0m\n\u001b[1;32m     71\u001b[0m         \u001b[0;32mraise\u001b[0m \u001b[0mTypeError\u001b[0m\u001b[0;34m(\u001b[0m\u001b[0;34m\"Input value must be array-like\"\u001b[0m\u001b[0;34m)\u001b[0m\u001b[0;34m\u001b[0m\u001b[0;34m\u001b[0m\u001b[0m\n\u001b[0;32m---> 72\u001b[0;31m     \u001b[0mcheck_array\u001b[0m\u001b[0;34m(\u001b[0m\u001b[0mx\u001b[0m\u001b[0;34m,\u001b[0m \u001b[0mensure_2d\u001b[0m\u001b[0;34m=\u001b[0m\u001b[0;32mFalse\u001b[0m\u001b[0;34m,\u001b[0m \u001b[0mallow_nd\u001b[0m\u001b[0;34m=\u001b[0m\u001b[0;32mTrue\u001b[0m\u001b[0;34m)\u001b[0m\u001b[0;34m\u001b[0m\u001b[0;34m\u001b[0m\u001b[0m\n\u001b[0m\u001b[1;32m     73\u001b[0m \u001b[0;34m\u001b[0m\u001b[0m\n\u001b[1;32m     74\u001b[0m     \u001b[0;32mif\u001b[0m \u001b[0mt\u001b[0m \u001b[0;32mis\u001b[0m \u001b[0;32mnot\u001b[0m \u001b[0mT_DEFAULT\u001b[0m\u001b[0;34m:\u001b[0m\u001b[0;34m\u001b[0m\u001b[0;34m\u001b[0m\u001b[0m\n",
      "\u001b[0;32m~/.local/lib/python3.8/site-packages/sklearn/utils/validation.py\u001b[0m in \u001b[0;36mcheck_array\u001b[0;34m(array, accept_sparse, accept_large_sparse, dtype, order, copy, force_all_finite, ensure_2d, allow_nd, ensure_min_samples, ensure_min_features, estimator, input_name)\u001b[0m\n\u001b[1;32m    919\u001b[0m \u001b[0;34m\u001b[0m\u001b[0m\n\u001b[1;32m    920\u001b[0m         \u001b[0;32mif\u001b[0m \u001b[0mforce_all_finite\u001b[0m\u001b[0;34m:\u001b[0m\u001b[0;34m\u001b[0m\u001b[0;34m\u001b[0m\u001b[0m\n\u001b[0;32m--> 921\u001b[0;31m             _assert_all_finite(\n\u001b[0m\u001b[1;32m    922\u001b[0m                 \u001b[0marray\u001b[0m\u001b[0;34m,\u001b[0m\u001b[0;34m\u001b[0m\u001b[0;34m\u001b[0m\u001b[0m\n\u001b[1;32m    923\u001b[0m                 \u001b[0minput_name\u001b[0m\u001b[0;34m=\u001b[0m\u001b[0minput_name\u001b[0m\u001b[0;34m,\u001b[0m\u001b[0;34m\u001b[0m\u001b[0;34m\u001b[0m\u001b[0m\n",
      "\u001b[0;32m~/.local/lib/python3.8/site-packages/sklearn/utils/validation.py\u001b[0m in \u001b[0;36m_assert_all_finite\u001b[0;34m(X, allow_nan, msg_dtype, estimator_name, input_name)\u001b[0m\n\u001b[1;32m    159\u001b[0m                 \u001b[0;34m\"#estimators-that-handle-nan-values\"\u001b[0m\u001b[0;34m\u001b[0m\u001b[0;34m\u001b[0m\u001b[0m\n\u001b[1;32m    160\u001b[0m             )\n\u001b[0;32m--> 161\u001b[0;31m         \u001b[0;32mraise\u001b[0m \u001b[0mValueError\u001b[0m\u001b[0;34m(\u001b[0m\u001b[0mmsg_err\u001b[0m\u001b[0;34m)\u001b[0m\u001b[0;34m\u001b[0m\u001b[0;34m\u001b[0m\u001b[0m\n\u001b[0m\u001b[1;32m    162\u001b[0m \u001b[0;34m\u001b[0m\u001b[0m\n\u001b[1;32m    163\u001b[0m \u001b[0;34m\u001b[0m\u001b[0m\n",
      "\u001b[0;31mValueError\u001b[0m: Input contains NaN."
     ]
    }
   ],
   "source": [
    "#model\n",
    "model = ps.SINDy(\n",
    "    differentiation_method=differentiation_method,\n",
    "    feature_library=feature_library,\n",
    "    optimizer=optimizer,\n",
    "    feature_names=[\"x\", \"y\"],\n",
    ")\n",
    "model.fit(X, t=t)\n",
    "model.print()\n",
    "print('\\n')\n",
    "\n",
    "model = ps.SINDy(\n",
    "    differentiation_method=ps.SINDyDerivative(kind=\"finite_difference\", k=1),\n",
    "    feature_library=feature_library,\n",
    "    optimizer=optimizer,\n",
    "    feature_names=[\"x\", \"y\"],\n",
    ")\n",
    "model.fit(X, t=t)\n",
    "model.print()\n",
    "print('\\n')\n",
    "\n",
    "sim = model.simulate([x0, y0], t=t_test)\n",
    "\n",
    "plt.figure()\n",
    "plt.plot(x0, y0, \"ro\", label=\"Initial condition\", alpha=0.6, markersize=8)\n",
    "plt.plot(x_test, y_test, \"b\", label=\"Exact solution\", alpha=0.4, linewidth=4)\n",
    "plt.plot(sim[:, 0], sim[:, 1], \"k--\", label=\"SINDy model\", linewidth=3)\n",
    "plt.xlabel(\"x\")\n",
    "plt.ylabel(\"y\")\n",
    "plt.legend()\n",
    "plt.show()\n",
    "\n",
    "model = ps.SINDy(\n",
    "    differentiation_method=ps.SmoothedFiniteDifference(),\n",
    "    feature_library=feature_library,\n",
    "    optimizer=optimizer,\n",
    "    feature_names=[\"x\", \"y\"],\n",
    ")\n",
    "model.fit(X, t=t)\n",
    "model.print()\n",
    "print('\\n')\n",
    "\n",
    "sim = model.simulate([x0, y0], t=t_test)\n",
    "\n",
    "plt.figure()\n",
    "plt.plot(x0, y0, \"ro\", label=\"Initial condition\", alpha=0.6, markersize=8)\n",
    "plt.plot(x_test, y_test, \"b\", label=\"Exact solution\", alpha=0.4, linewidth=4)\n",
    "plt.plot(sim[:, 0], sim[:, 1], \"k--\", label=\"SINDy model\", linewidth=3)\n",
    "plt.xlabel(\"x\")\n",
    "plt.ylabel(\"y\")\n",
    "plt.legend()\n",
    "plt.show()\n",
    "\n",
    "model = ps.SINDy(\n",
    "    differentiation_method=ps.SINDyDerivative(kind=\"savitzky_golay\", left=0.5, right=0.5, order=3),\n",
    "    feature_library=feature_library,\n",
    "    optimizer=optimizer,\n",
    "    feature_names=[\"x\", \"y\"],\n",
    ")\n",
    "model.fit(X, t=t)\n",
    "model.print()\n",
    "print('\\n')\n",
    "\n",
    "\n",
    "model = ps.SINDy(\n",
    "    differentiation_method=ps.SINDyDerivative(kind=\"spline\", s=1e-2),\n",
    "    feature_library=feature_library,\n",
    "    optimizer=optimizer,\n",
    "    feature_names=[\"x\", \"y\"],\n",
    ")\n",
    "model.fit(X, t=t)\n",
    "model.print()\n",
    "print('\\n')\n",
    "\n",
    "sim = model.simulate([x0, y0], t=t_test)\n",
    "\n",
    "plt.figure()\n",
    "plt.plot(x0, y0, \"ro\", label=\"Initial condition\", alpha=0.6, markersize=8)\n",
    "plt.plot(x_test, y_test, \"b\", label=\"Exact solution\", alpha=0.4, linewidth=4)\n",
    "plt.plot(sim[:, 0], sim[:, 1], \"k--\", label=\"SINDy model\", linewidth=3)\n",
    "plt.xlabel(\"x\")\n",
    "plt.ylabel(\"y\")\n",
    "plt.legend()\n",
    "plt.show()\n",
    "\n",
    "model = ps.SINDy(\n",
    "    differentiation_method=ps.SINDyDerivative(kind=\"trend_filtered\", order=0, alpha=1e-2),\n",
    "    feature_library=feature_library,\n",
    "    optimizer=optimizer,\n",
    "    feature_names=[\"x\", \"y\"],\n",
    ")\n",
    "model.fit(X, t=t)\n",
    "model.print()\n",
    "print('\\n')\n",
    "\n",
    "sim = model.simulate([x0, y0], t=t_test)\n",
    "\n",
    "plt.figure()\n",
    "plt.plot(x0, y0, \"ro\", label=\"Initial condition\", alpha=0.6, markersize=8)\n",
    "plt.plot(x_test, y_test, \"b\", label=\"Exact solution\", alpha=0.4, linewidth=4)\n",
    "plt.plot(sim[:, 0], sim[:, 1], \"k--\", label=\"SINDy model\", linewidth=3)\n",
    "plt.xlabel(\"x\")\n",
    "plt.ylabel(\"y\")\n",
    "plt.legend()\n",
    "plt.show()\n",
    "\n",
    "model = ps.SINDy(\n",
    "    differentiation_method=ps.SINDyDerivative(kind=\"spectral\"),\n",
    "    feature_library=feature_library,\n",
    "    optimizer=optimizer,\n",
    "    feature_names=[\"x\", \"y\"],\n",
    ")\n",
    "model.fit(X, t=t)\n",
    "model.print()\n",
    "print('\\n')\n",
    "\n",
    "sim = model.simulate([x0, y0], t=t_test)\n",
    "\n",
    "plt.figure()\n",
    "plt.plot(x0, y0, \"ro\", label=\"Initial condition\", alpha=0.6, markersize=8)\n",
    "plt.plot(x_test, y_test, \"b\", label=\"Exact solution\", alpha=0.4, linewidth=4)\n",
    "plt.plot(sim[:, 0], sim[:, 1], \"k--\", label=\"SINDy model\", linewidth=3)\n",
    "plt.xlabel(\"x\")\n",
    "plt.ylabel(\"y\")\n",
    "plt.legend()\n",
    "plt.show()\n",
    "\n",
    "model = ps.SINDy(\n",
    "    differentiation_method=ps.SpectralDerivative(),\n",
    "    feature_library=feature_library,\n",
    "    optimizer=optimizer,\n",
    "    feature_names=[\"x\", \"y\"],\n",
    ")\n",
    "model.fit(X, t=t)\n",
    "model.print()\n",
    "print('\\n')\n",
    "sim = model.simulate([x0, y0], t=t_test)\n",
    "\n",
    "plt.figure()\n",
    "plt.plot(x0, y0, \"ro\", label=\"Initial condition\", alpha=0.6, markersize=8)\n",
    "plt.plot(x_test, y_test, \"b\", label=\"Exact solution\", alpha=0.4, linewidth=4)\n",
    "plt.plot(sim[:, 0], sim[:, 1], \"k--\", label=\"SINDy model\", linewidth=3)\n",
    "plt.xlabel(\"x\")\n",
    "plt.ylabel(\"y\")\n",
    "plt.legend()\n",
    "plt.show()\n",
    "\n",
    "model = ps.SINDy(\n",
    "    differentiation_method=ps.SINDyDerivative(kind=\"kalman\", alpha=0.05),\n",
    "    feature_library=feature_library,\n",
    "    optimizer=optimizer,\n",
    "    feature_names=[\"x\", \"y\"],\n",
    ")\n",
    "model.fit(X, t=t)\n",
    "model.print()\n",
    "print('\\n')\n",
    "\n",
    "sim = model.simulate([x0, y0], t=t_test)\n",
    "\n",
    "\n",
    "plt.figure()\n",
    "plt.plot(x0, y0, \"ro\", label=\"Initial condition\", alpha=0.6, markersize=8)\n",
    "plt.plot(x_test, y_test, \"b\", label=\"Exact solution\", alpha=0.4, linewidth=4)\n",
    "plt.plot(sim[:, 0], sim[:, 1], \"k--\", label=\"SINDy model\", linewidth=3)\n",
    "plt.xlabel(\"x\")\n",
    "plt.ylabel(\"y\")\n",
    "plt.legend()\n",
    "plt.show()\n",
    "\n",
    "model = ps.SINDy(\n",
    "    differentiation_method=differentiation_method,\n",
    "    feature_library=feature_library,\n",
    "    optimizer=optimizer,\n",
    "    feature_names=[\"x\", \"y\"],\n",
    ")\n",
    "model.fit(X, t=t)\n",
    "model.print()\n",
    "print('Repeat of original')"
   ]
  },
  {
   "cell_type": "code",
   "execution_count": 23,
   "id": "613dcf2b",
   "metadata": {
    "ExecuteTime": {
     "end_time": "2023-06-28T01:23:16.518091Z",
     "start_time": "2023-06-28T01:23:16.204704Z"
    }
   },
   "outputs": [
    {
     "data": {
      "image/png": "[encoded data removed]",
      "text/plain": [
       "<Figure size 432x288 with 1 Axes>"
      ]
     },
     "metadata": {
      "needs_background": "light"
     },
     "output_type": "display_data"
    }
   ],
   "source": [
    "#simulate\n",
    "x0, y0, t_test, x_test, y_test = gen_data2()\n",
    "sim = model.simulate([x0, y0], t=t_test)\n",
    "\n",
    "#import matplotlib.pyplot as plt\n",
    "#plt.ion() #interactive on\n",
    "\n",
    "plt.figure()\n",
    "plt.plot(x0, y0, \"ro\", label=\"Initial condition\", alpha=0.6, markersize=8)\n",
    "plt.plot(x_test, y_test, \"b\", label=\"Exact solution\", alpha=0.4, linewidth=4)\n",
    "plt.plot(sim[:, 0], sim[:, 1], \"k--\", label=\"SINDy model\", linewidth=3)\n",
    "plt.xlabel(\"x\")\n",
    "plt.ylabel(\"y\")\n",
    "plt.legend()\n",
    "plt.show()\n",
    "\n"
   ]
  }
 ],
 "metadata": {
  "kernelspec": {
   "display_name": "Python 3.8",
   "language": "python",
   "name": "python3"
  },
  "language_info": {
   "codemirror_mode": {
    "name": "ipython",
    "version": 3
   },
   "file_extension": ".py",
   "mimetype": "text/x-python",
   "name": "python",
   "nbconvert_exporter": "python",
   "pygments_lexer": "ipython3",
   "version": "3.8.10"
  },
  "toc": {
   "base_numbering": 1,
   "nav_menu": {},
   "number_sections": true,
   "sideBar": true,
   "skip_h1_title": false,
   "title_cell": "Table of Contents",
   "title_sidebar": "Contents",
   "toc_cell": false,
   "toc_position": {},
   "toc_section_display": true,
   "toc_window_display": false
  },
  "varInspector": {
   "cols": {
    "lenName": 16,
    "lenType": 16,
    "lenVar": 40
   },
   "kernels_config": {
    "python": {
     "delete_cmd_postfix": "",
     "delete_cmd_prefix": "del ",
     "library": "var_list.py",
     "varRefreshCmd": "print(var_dic_list())"
    },
    "r": {
     "delete_cmd_postfix": ") ",
     "delete_cmd_prefix": "rm(",
     "library": "var_list.r",
     "varRefreshCmd": "cat(var_dic_list()) "
    }
   },
   "types_to_exclude": [
    "module",
    "function",
    "builtin_function_or_method",
    "instance",
    "_Feature"
   ],
   "window_display": false
  }
 },
 "nbformat": 4,
 "nbformat_minor": 5
}
